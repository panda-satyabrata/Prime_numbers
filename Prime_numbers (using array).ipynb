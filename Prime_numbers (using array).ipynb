{
 "cells": [
  {
   "cell_type": "code",
   "execution_count": null,
   "metadata": {
    "collapsed": true
   },
   "outputs": [],
   "source": [
    "import numpy as np\n",
    "\n",
    "def get_prime(num):\n",
    "    allnum = np.arange(2,num+1)\n",
    "    for i in range(int(num**0.5)):\n",
    "        array1 = allnum[1:]\n",
    "        array2 = allnum[1:]%allnum[0] != 0 \n",
    "        array1 = array1[array2]\n",
    "        allnum = np.hstack((array1,allnum[0]))\n",
    "        return sorted(allnum)"
   ]
  },
  {
   "cell_type": "code",
   "execution_count": null,
   "metadata": {
    "collapsed": true
   },
   "outputs": [],
   "source": [
    "%time print get_prime(10000000)"
   ]
  }
 ],
 "metadata": {
  "kernelspec": {
   "display_name": "Python 2",
   "language": "python",
   "name": "python2"
  },
  "language_info": {
   "codemirror_mode": {
    "name": "ipython",
    "version": 2
   },
   "file_extension": ".py",
   "mimetype": "text/x-python",
   "name": "python",
   "nbconvert_exporter": "python",
   "pygments_lexer": "ipython2",
   "version": "2.7.14"
  }
 },
 "nbformat": 4,
 "nbformat_minor": 2
}
