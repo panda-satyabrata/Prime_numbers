{
 "cells": [
  {
   "cell_type": "code",
   "execution_count": 4,
   "metadata": {},
   "outputs": [
    {
     "name": "stdout",
     "output_type": "stream",
     "text": [
      "10000000 loops, best of 3: 30.4 ns per loop\n"
     ]
    }
   ],
   "source": [
    "num = 100\n",
    "notprime = [i for x in range(2,int(num**0.5)) for i in range(x*2, num, x)]\n",
    "prime = [j for j in range(2,num) if j not in notprime]\n",
    "%timeit prime"
   ]
  }
 ],
 "metadata": {
  "kernelspec": {
   "display_name": "Python 2",
   "language": "python",
   "name": "python2"
  },
  "language_info": {
   "codemirror_mode": {
    "name": "ipython",
    "version": 2
   },
   "file_extension": ".py",
   "mimetype": "text/x-python",
   "name": "python",
   "nbconvert_exporter": "python",
   "pygments_lexer": "ipython2",
   "version": "2.7.13"
  }
 },
 "nbformat": 4,
 "nbformat_minor": 2
}
